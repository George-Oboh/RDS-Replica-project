{
 "cells": [
  {
   "cell_type": "markdown",
   "metadata": {},
   "source": [
    "# This project shows a replication from AWS RDS to Google Cloud SQL. \n",
    "\n",
    "In this project we create a Master-Slave design, where RDS is the Master and GCP MySQL is the Slave. \n",
    "To setup a replication on Google Cloud SQL we need to use a static IP address on a compute engine to forward the traffic from master to slave."
   ]
  },
  {
   "cell_type": "markdown",
   "metadata": {},
   "source": [
    "![](Replicaproject.png)"
   ]
  },
  {
   "cell_type": "markdown",
   "metadata": {},
   "source": [
    "We are going to assume there's an RDS instance running as our Master database.\n",
    "We need to modify this RDS intance and add a parameter group that has GTID enabled. See images below"
   ]
  },
  {
   "cell_type": "markdown",
   "metadata": {},
   "source": [
    "![](parameter-group-edit.png)"
   ]
  },
  {
   "cell_type": "markdown",
   "metadata": {},
   "source": [
    "Now add this new parameter group to the RDS instance."
   ]
  },
  {
   "cell_type": "markdown",
   "metadata": {},
   "source": [
    "![](parameter-group-add.png)"
   ]
  },
  {
   "cell_type": "markdown",
   "metadata": {},
   "source": [
    "After applying these changes, RDS requires a reboot for this change to be made.\n",
    "So go ahead and give it a reboot."
   ]
  },
  {
   "cell_type": "markdown",
   "metadata": {},
   "source": [
    "![](Reboot-RDS.png)"
   ]
  },
  {
   "cell_type": "markdown",
   "metadata": {},
   "source": [
    "Now that's all we need to do for our Master database.\n",
    "\n",
    "Next step is to create an EC2 intance with an elastic IP address which will act as a proxy for our Master Database. By default EC2 doesn't not have a static IP address, so creating an elastic IP address helps this proxy process(Master to Slave)\n",
    "\n",
    "For quick automation, we use a Terraform script \"ec2-build.tf\"\n"
   ]
  },
  {
   "cell_type": "markdown",
   "metadata": {},
   "source": [
    "Now SSH into the EC2 and run this socat command:\n",
    "    \n",
    "    socat -v TCP-LISTEN:3306,fork TCP:\"YOUR-RDS-INSTANCE-ID\":3306\n",
    "                \n",
    "See image below"
   ]
  },
  {
   "cell_type": "markdown",
   "metadata": {},
   "source": [
    "![](socat.PNG)"
   ]
  },
  {
   "cell_type": "markdown",
   "metadata": {},
   "source": [
    "We use SOCAT here because we want our EC2 intance to ALWAYS listen and point to our RDS Master on port 3306\n",
    "\n",
    "With this single line command we have made our EC2 instance act as a proxy between our RDS Master and GCP SQL Slave.\n",
    "You can verify this connection by using a SQL workbench tool such as 'MySQL Workbench'\n",
    "\n",
    "See image below"
   ]
  },
  {
   "cell_type": "markdown",
   "metadata": {},
   "source": [
    "![](mysql-workbench.png)"
   ]
  },
  {
   "cell_type": "markdown",
   "metadata": {},
   "source": [
    "Now that's all we need to do for our Proxy EC2 instance.\n",
    "\n",
    "Next step is to create a bucket for our SQL dumpfile of our Master database.\n",
    "Once the bucket is created we can now go to a bash terminal and run this code:\n",
    "    \n",
    "     mysqldump \\\n",
    " -h34.203.124.227 -P -urdsmaster -p \\\n",
    " - databases aws-rds-master \\\n",
    " - hex-blob - skip-triggers - master-data=1 \\\n",
    " - order-by-primary - compact - no-autocommit \\\n",
    " - default-character-set=utf8mb4 - ignore-table \\\n",
    " - single-transaction - set-gtid-purged=on | gzip | gsutil cp - gs://rdsmaster/rds-master-george/rds-master.sql.gz\n",
    "\n",
    "            \n",
    "\n",
    "This code will get a SQL dumpfile by going to our RDS Master through our proxy EC2 intance, remember we still have our\n",
    "socat command running and we are using our static IP address here to point to the proxy. This dumpfile will be sent to our bucket as a zip file."
   ]
  },
  {
   "cell_type": "markdown",
   "metadata": {},
   "source": [
    "Next, we now need to create our Slave database. Simply go to GCP SQL and begin a Migrate data process\n",
    "\n",
    "An important thing to note here is that GCP requires a static IP address to create a replication process, which is why we used a EC2 intance with elastic IP attached as a proxy\n",
    "\n",
    "Simply add that static IP address in the information steps and create a username/password, also choose a Database version"
   ]
  },
  {
   "cell_type": "markdown",
   "metadata": {},
   "source": [
    "![](gcp-mysql.png)"
   ]
  },
  {
   "cell_type": "markdown",
   "metadata": {},
   "source": [
    "Lastly, we add the SQL dumpfile from our bucket and click finish. GCP takes care of the rest :) "
   ]
  },
  {
   "cell_type": "markdown",
   "metadata": {},
   "source": [
    "![](sql-dump-1.png)"
   ]
  },
  {
   "cell_type": "markdown",
   "metadata": {},
   "source": [
    "![](sql-dump-2.png)"
   ]
  },
  {
   "cell_type": "markdown",
   "metadata": {},
   "source": [
    "Automatically the replication should start.\n",
    "You can verify this connection by using a SQL workbench tool such as 'MySQL Workbench' and running this code:\n",
    "\n",
    "    show slave status; #This will show the status of your Read_Master_log, slave_IO_running and slave_SQL_running\n",
    "    \n",
    "    \n",
    "Remember to grab the Public IP address of the GCP SQL replica instance. "
   ]
  }
 ],
 "metadata": {
  "kernelspec": {
   "display_name": "Python 3",
   "language": "python",
   "name": "python3"
  },
  "language_info": {
   "codemirror_mode": {
    "name": "ipython",
    "version": 3
   },
   "file_extension": ".py",
   "mimetype": "text/x-python",
   "name": "python",
   "nbconvert_exporter": "python",
   "pygments_lexer": "ipython3",
   "version": "3.8.5"
  }
 },
 "nbformat": 4,
 "nbformat_minor": 4
}
